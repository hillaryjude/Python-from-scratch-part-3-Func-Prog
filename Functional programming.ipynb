{
 "cells": [
  {
   "cell_type": "markdown",
   "metadata": {
    "id": "jmGcTX0v-Tw3"
   },
   "source": [
    "# SETS"
   ]
  },
  {
   "cell_type": "markdown",
   "metadata": {
    "id": "SRS2AdoR-YWf"
   },
   "source": [
    "STORES MULTIPLE DATA IN A VARAIBLE\n",
    "\n",
    "REPRESENTED IN {}, Unlike Dictionaries, sets do not have key or values.\n",
    "\n",
    "NON-REPETITIVE AND UNORDERED\n"
   ]
  },
  {
   "cell_type": "code",
   "execution_count": 30,
   "metadata": {
    "colab": {
     "base_uri": "https://localhost:8080/"
    },
    "executionInfo": {
     "elapsed": 607,
     "status": "ok",
     "timestamp": 1726929024718,
     "user": {
      "displayName": "Hillary Jude",
      "userId": "17943637264411223929"
     },
     "user_tz": -330
    },
    "id": "m1CNjWQ9-YTH",
    "outputId": "341eca5a-3155-4fd2-ecf7-e23d35eb47af"
   },
   "outputs": [
    {
     "name": "stdout",
     "output_type": "stream",
     "text": [
      "{1, 2, 3, 4, 6, 7}\n",
      "<class 'set'>\n"
     ]
    }
   ],
   "source": [
    "s = {1,2,4,3,4,2,6,7,2}\n",
    "print(s)\n",
    "print(type(s))"
   ]
  },
  {
   "cell_type": "code",
   "execution_count": 31,
   "metadata": {
    "colab": {
     "base_uri": "https://localhost:8080/"
    },
    "executionInfo": {
     "elapsed": 394,
     "status": "ok",
     "timestamp": 1726929053802,
     "user": {
      "displayName": "Hillary Jude",
      "userId": "17943637264411223929"
     },
     "user_tz": -330
    },
    "id": "86xCGLq2-YQY",
    "outputId": "eb2acef5-a134-44fd-cb36-ca796d809411"
   },
   "outputs": [
    {
     "name": "stdout",
     "output_type": "stream",
     "text": [
      "<class 'set'>\n"
     ]
    }
   ],
   "source": [
    "h = {2,3,'hello', False, 99}\n",
    "print(type(h))"
   ]
  },
  {
   "cell_type": "markdown",
   "metadata": {
    "colab": {
     "base_uri": "https://localhost:8080/",
     "height": 141
    },
    "executionInfo": {
     "elapsed": 465,
     "status": "error",
     "timestamp": 1726929070702,
     "user": {
      "displayName": "Hillary Jude",
      "userId": "17943637264411223929"
     },
     "user_tz": -330
    },
    "id": "d41yyUru_jPo",
    "outputId": "8a921a32-f29c-4344-b50f-eac954860723"
   },
   "source": [
    "h[0] since sets are unordered, this throws a type error"
   ]
  },
  {
   "cell_type": "markdown",
   "metadata": {
    "colab": {
     "base_uri": "https://localhost:8080/",
     "height": 141
    },
    "executionInfo": {
     "elapsed": 432,
     "status": "error",
     "timestamp": 1726929170639,
     "user": {
      "displayName": "Hillary Jude",
      "userId": "17943637264411223929"
     },
     "user_tz": -330
    },
    "id": "OmD9Oa38_jSl",
    "outputId": "68be7cf3-a2db-485d-cbeb-2218f357bec0"
   },
   "source": [
    "h[0] = {2} though sets are mutable there are some limitations like item assignment unsupported."
   ]
  },
  {
   "cell_type": "code",
   "execution_count": 32,
   "metadata": {
    "colab": {
     "base_uri": "https://localhost:8080/"
    },
    "executionInfo": {
     "elapsed": 382,
     "status": "ok",
     "timestamp": 1726930362435,
     "user": {
      "displayName": "Hillary Jude",
      "userId": "17943637264411223929"
     },
     "user_tz": -330
    },
    "id": "f0_Y4G5c_jVQ",
    "outputId": "e9221964-e3fb-4174-df24-24be4ff15157"
   },
   "outputs": [
    {
     "name": "stdout",
     "output_type": "stream",
     "text": [
      "{False, 2, 99, 3, (2, 3, 4), 'hello'}\n"
     ]
    }
   ],
   "source": [
    "h.add((2,3,4)) #add only adds single element to the set at a time\n",
    "print(h)"
   ]
  },
  {
   "cell_type": "code",
   "execution_count": 33,
   "metadata": {
    "colab": {
     "base_uri": "https://localhost:8080/"
    },
    "executionInfo": {
     "elapsed": 381,
     "status": "ok",
     "timestamp": 1726930394328,
     "user": {
      "displayName": "Hillary Jude",
      "userId": "17943637264411223929"
     },
     "user_tz": -330
    },
    "id": "mM34siS3_jqK",
    "outputId": "8b96445a-9d83-47b5-d4df-91e56150eb91"
   },
   "outputs": [
    {
     "name": "stdout",
     "output_type": "stream",
     "text": [
      "{False, 2, 99, 3, (2, 3, 4), 4, 'hello'}\n"
     ]
    }
   ],
   "source": [
    "h.update((2,3,4)) #update command can add multiple elements at a time. No limitations\n",
    "print(h)"
   ]
  },
  {
   "cell_type": "markdown",
   "metadata": {},
   "source": [
    "**tuples can be added to sets. But List,dictionaries and sets cannot be added to sets.**\n",
    "\n",
    "**Immutable elements can be added in sets**"
   ]
  },
  {
   "cell_type": "raw",
   "metadata": {
    "colab": {
     "base_uri": "https://localhost:8080/",
     "height": 141
    },
    "executionInfo": {
     "elapsed": 363,
     "status": "error",
     "timestamp": 1726930429526,
     "user": {
      "displayName": "Hillary Jude",
      "userId": "17943637264411223929"
     },
     "user_tz": -330
    },
    "id": "lBnwIEf2Eung",
    "outputId": "cc486572-5833-4506-8236-19715f4469ef"
   },
   "source": [
    "h.add([99,98,97]) \n",
    "This throws an error saying, unhashable type: 'list'"
   ]
  },
  {
   "cell_type": "markdown",
   "metadata": {
    "id": "0QbX3Du_Euq8"
   },
   "source": [
    "Though sets are mutable, it does not take values of mutable elements. Sets and Dictionaries take values of Immutable elements only.\n",
    "\n",
    "Add can take only one element at a time. And only immutable elements, but update can take many elements in it."
   ]
  },
  {
   "cell_type": "code",
   "execution_count": 34,
   "metadata": {
    "colab": {
     "base_uri": "https://localhost:8080/"
    },
    "executionInfo": {
     "elapsed": 442,
     "status": "ok",
     "timestamp": 1726930826390,
     "user": {
      "displayName": "Hillary Jude",
      "userId": "17943637264411223929"
     },
     "user_tz": -330
    },
    "id": "o3l2RRbaEuti",
    "outputId": "c775f91e-d56e-412c-f4be-c575cfb7c30d"
   },
   "outputs": [
    {
     "name": "stdout",
     "output_type": "stream",
     "text": [
      "{False, 2, 99, 3, (2, 3, 4), 4, 222, 'hello'}\n"
     ]
    }
   ],
   "source": [
    "h.update([222,3])\n",
    "print(h)"
   ]
  },
  {
   "cell_type": "markdown",
   "metadata": {
    "id": "ruojT2BTEuv6"
   },
   "source": [
    "**list and dictionaries has an option called hash function. Searching of elements becomes easy in this case. They have address mapped to it.**"
   ]
  },
  {
   "cell_type": "code",
   "execution_count": 35,
   "metadata": {
    "colab": {
     "base_uri": "https://localhost:8080/"
    },
    "executionInfo": {
     "elapsed": 414,
     "status": "ok",
     "timestamp": 1726938300176,
     "user": {
      "displayName": "Hillary Jude",
      "userId": "17943637264411223929"
     },
     "user_tz": -330
    },
    "id": "6CBvO9R6ivRN",
    "outputId": "57c0a301-a533-4b13-840b-0950351c89ea"
   },
   "outputs": [
    {
     "name": "stdout",
     "output_type": "stream",
     "text": [
      "{2, 99, 3, (2, 3, 4), 4, 222, 'hello'}\n"
     ]
    }
   ],
   "source": [
    "h.remove(False)\n",
    "print(h)"
   ]
  },
  {
   "cell_type": "markdown",
   "metadata": {
    "id": "pIAkjSFJjCBh"
   },
   "source": [
    "Universal functions -> sum, mean, median, mode, average, len..."
   ]
  },
  {
   "cell_type": "code",
   "execution_count": 36,
   "metadata": {
    "colab": {
     "base_uri": "https://localhost:8080/"
    },
    "executionInfo": {
     "elapsed": 7,
     "status": "ok",
     "timestamp": 1726938399093,
     "user": {
      "displayName": "Hillary Jude",
      "userId": "17943637264411223929"
     },
     "user_tz": -330
    },
    "id": "IT47e6ojjA__",
    "outputId": "1cb61223-5b74-41d5-ece3-b15ef2593ee5"
   },
   "outputs": [
    {
     "data": {
      "text/plain": [
       "7"
      ]
     },
     "execution_count": 36,
     "metadata": {},
     "output_type": "execute_result"
    }
   ],
   "source": [
    "len(h)"
   ]
  },
  {
   "cell_type": "code",
   "execution_count": 37,
   "metadata": {
    "colab": {
     "base_uri": "https://localhost:8080/"
    },
    "executionInfo": {
     "elapsed": 374,
     "status": "ok",
     "timestamp": 1726938480431,
     "user": {
      "displayName": "Hillary Jude",
      "userId": "17943637264411223929"
     },
     "user_tz": -330
    },
    "id": "feO5cnn9jA9T",
    "outputId": "d138b69f-4267-4c06-bae2-9ef71de72caa"
   },
   "outputs": [
    {
     "name": "stdout",
     "output_type": "stream",
     "text": [
      "4 198 6 (2, 3, 4, 2, 3, 4) 8 444 hellohello "
     ]
    }
   ],
   "source": [
    "for i in h:\n",
    "  print(i*2, end=' ')"
   ]
  },
  {
   "cell_type": "code",
   "execution_count": 38,
   "metadata": {
    "colab": {
     "base_uri": "https://localhost:8080/"
    },
    "executionInfo": {
     "elapsed": 419,
     "status": "ok",
     "timestamp": 1726983615973,
     "user": {
      "displayName": "Hillary Jude",
      "userId": "17943637264411223929"
     },
     "user_tz": -330
    },
    "id": "4CziHVRsjA6g",
    "outputId": "fbb6399d-6daa-4295-88c2-e24b7f1b467a"
   },
   "outputs": [
    {
     "name": "stdout",
     "output_type": "stream",
     "text": [
      "Remember its never too late\n"
     ]
    }
   ],
   "source": [
    "s = \"Remember its never too late\"\n",
    "print(s)"
   ]
  },
  {
   "cell_type": "code",
   "execution_count": 39,
   "metadata": {
    "colab": {
     "base_uri": "https://localhost:8080/"
    },
    "executionInfo": {
     "elapsed": 523,
     "status": "ok",
     "timestamp": 1726983627646,
     "user": {
      "displayName": "Hillary Jude",
      "userId": "17943637264411223929"
     },
     "user_tz": -330
    },
    "id": "DwGGNp3Hj-kk",
    "outputId": "7b7db044-c7cf-4f81-87cf-8e6cfae6d8cc"
   },
   "outputs": [
    {
     "data": {
      "text/plain": [
       "['Remember', 'its', 'never', 'too', 'late']"
      ]
     },
     "execution_count": 39,
     "metadata": {},
     "output_type": "execute_result"
    }
   ],
   "source": [
    "s.split()"
   ]
  },
  {
   "cell_type": "code",
   "execution_count": 40,
   "metadata": {
    "colab": {
     "base_uri": "https://localhost:8080/"
    },
    "executionInfo": {
     "elapsed": 5,
     "status": "ok",
     "timestamp": 1726983647090,
     "user": {
      "displayName": "Hillary Jude",
      "userId": "17943637264411223929"
     },
     "user_tz": -330
    },
    "id": "pUIQQ4XrPu1J",
    "outputId": "0b878cea-a094-47e6-9a78-89d099f4a024"
   },
   "outputs": [
    {
     "data": {
      "text/plain": [
       "5"
      ]
     },
     "execution_count": 40,
     "metadata": {},
     "output_type": "execute_result"
    }
   ],
   "source": [
    "len(s.split())"
   ]
  },
  {
   "cell_type": "code",
   "execution_count": 41,
   "metadata": {
    "colab": {
     "base_uri": "https://localhost:8080/"
    },
    "executionInfo": {
     "elapsed": 400,
     "status": "ok",
     "timestamp": 1726983739985,
     "user": {
      "displayName": "Hillary Jude",
      "userId": "17943637264411223929"
     },
     "user_tz": -330
    },
    "id": "F-omI4o6Pu-N",
    "outputId": "b870c6d3-e994-4733-f6bc-59f2ba8eaf3c"
   },
   "outputs": [
    {
     "data": {
      "text/plain": [
       "{'Remember', 'its', 'late', 'never', 'too'}"
      ]
     },
     "execution_count": 41,
     "metadata": {},
     "output_type": "execute_result"
    }
   ],
   "source": [
    "set(s.split()) #string.split() separates string into separate words"
   ]
  },
  {
   "cell_type": "code",
   "execution_count": 42,
   "metadata": {
    "colab": {
     "base_uri": "https://localhost:8080/"
    },
    "executionInfo": {
     "elapsed": 447,
     "status": "ok",
     "timestamp": 1726983763968,
     "user": {
      "displayName": "Hillary Jude",
      "userId": "17943637264411223929"
     },
     "user_tz": -330
    },
    "id": "AhyN3RD2QNSw",
    "outputId": "fd52c495-61f9-4533-cb95-5bfbd904dc28"
   },
   "outputs": [
    {
     "data": {
      "text/plain": [
       "{' ', 'R', 'a', 'b', 'e', 'i', 'l', 'm', 'n', 'o', 'r', 's', 't', 'v'}"
      ]
     },
     "execution_count": 42,
     "metadata": {},
     "output_type": "execute_result"
    }
   ],
   "source": [
    "set(list(s))"
   ]
  },
  {
   "cell_type": "code",
   "execution_count": 43,
   "metadata": {
    "colab": {
     "base_uri": "https://localhost:8080/"
    },
    "executionInfo": {
     "elapsed": 510,
     "status": "ok",
     "timestamp": 1726983889269,
     "user": {
      "displayName": "Hillary Jude",
      "userId": "17943637264411223929"
     },
     "user_tz": -330
    },
    "id": "HxrQ1ZAzQNXZ",
    "outputId": "631d168f-7073-4e56-8c80-d05ec8167d26"
   },
   "outputs": [
    {
     "data": {
      "text/plain": [
       "18"
      ]
     },
     "execution_count": 43,
     "metadata": {},
     "output_type": "execute_result"
    }
   ],
   "source": [
    "p = \"where are you man?\"\n",
    "list(p)   #list(string) gives separate characters\n",
    "len(list(p))"
   ]
  },
  {
   "cell_type": "code",
   "execution_count": 44,
   "metadata": {
    "colab": {
     "base_uri": "https://localhost:8080/"
    },
    "executionInfo": {
     "elapsed": 463,
     "status": "ok",
     "timestamp": 1726984259203,
     "user": {
      "displayName": "Hillary Jude",
      "userId": "17943637264411223929"
     },
     "user_tz": -330
    },
    "id": "vDWFGYbTQNgT",
    "outputId": "3e07c828-6c5d-4000-8c31-12714946e840"
   },
   "outputs": [
    {
     "name": "stdout",
     "output_type": "stream",
     "text": [
      "['where', 'there', 'is', 'a', 'will', 'there', 'is', 'a', 'way']\n",
      "{'where', 'will', 'a', 'is', 'there', 'way'}\n"
     ]
    }
   ],
   "source": [
    "y = \"where there is a will there is a way\"\n",
    "print(y.split())\n",
    "\n",
    "print(set(y.split())) #when converting to set, repeating words are omitted."
   ]
  },
  {
   "cell_type": "code",
   "execution_count": 45,
   "metadata": {
    "colab": {
     "base_uri": "https://localhost:8080/"
    },
    "executionInfo": {
     "elapsed": 427,
     "status": "ok",
     "timestamp": 1726984346270,
     "user": {
      "displayName": "Hillary Jude",
      "userId": "17943637264411223929"
     },
     "user_tz": -330
    },
    "id": "JvrGgZYSQNlP",
    "outputId": "788d6b90-b5ad-46d8-a24d-afff70c5dd39"
   },
   "outputs": [
    {
     "name": "stdout",
     "output_type": "stream",
     "text": [
      "['where', 'there', 'is', 'a', 'will', 'there', 'is', 'a', 'way']\n"
     ]
    }
   ],
   "source": [
    "words = y.split()\n",
    "print(words)"
   ]
  },
  {
   "cell_type": "code",
   "execution_count": 46,
   "metadata": {
    "colab": {
     "base_uri": "https://localhost:8080/"
    },
    "executionInfo": {
     "elapsed": 387,
     "status": "ok",
     "timestamp": 1726984360360,
     "user": {
      "displayName": "Hillary Jude",
      "userId": "17943637264411223929"
     },
     "user_tz": -330
    },
    "id": "3tCelOoTSeTz",
    "outputId": "446c3988-f1b4-43f5-f72a-a2a4dab792e7"
   },
   "outputs": [
    {
     "data": {
      "text/plain": [
       "True"
      ]
     },
     "execution_count": 46,
     "metadata": {},
     "output_type": "execute_result"
    }
   ],
   "source": [
    "'there' in words"
   ]
  },
  {
   "cell_type": "code",
   "execution_count": 47,
   "metadata": {
    "colab": {
     "base_uri": "https://localhost:8080/"
    },
    "executionInfo": {
     "elapsed": 390,
     "status": "ok",
     "timestamp": 1726984375417,
     "user": {
      "displayName": "Hillary Jude",
      "userId": "17943637264411223929"
     },
     "user_tz": -330
    },
    "id": "bpA7R5D9SeY7",
    "outputId": "48a47fa4-7ec3-419c-afac-4bd009972ac8"
   },
   "outputs": [
    {
     "data": {
      "text/plain": [
       "False"
      ]
     },
     "execution_count": 47,
     "metadata": {},
     "output_type": "execute_result"
    }
   ],
   "source": [
    "'Will' in words #case sensitive"
   ]
  },
  {
   "cell_type": "code",
   "execution_count": 48,
   "metadata": {
    "colab": {
     "base_uri": "https://localhost:8080/"
    },
    "executionInfo": {
     "elapsed": 425,
     "status": "ok",
     "timestamp": 1726984529869,
     "user": {
      "displayName": "Hillary Jude",
      "userId": "17943637264411223929"
     },
     "user_tz": -330
    },
    "id": "Vt5duwekSead",
    "outputId": "63a1f380-6d53-4ed8-9242-50c40af8431b"
   },
   "outputs": [
    {
     "data": {
      "text/plain": [
       "['w',\n",
       " 'h',\n",
       " 'e',\n",
       " 'r',\n",
       " 'e',\n",
       " ' ',\n",
       " 't',\n",
       " 'h',\n",
       " 'e',\n",
       " 'r',\n",
       " 'e',\n",
       " ' ',\n",
       " 'i',\n",
       " 's',\n",
       " ' ',\n",
       " 'a',\n",
       " ' ',\n",
       " 'w',\n",
       " 'i',\n",
       " 'l',\n",
       " 'l',\n",
       " ' ',\n",
       " 't',\n",
       " 'h',\n",
       " 'e',\n",
       " 'r',\n",
       " 'e',\n",
       " ' ',\n",
       " 'i',\n",
       " 's',\n",
       " ' ',\n",
       " 'a',\n",
       " ' ',\n",
       " 'w',\n",
       " 'a',\n",
       " 'y']"
      ]
     },
     "execution_count": 48,
     "metadata": {},
     "output_type": "execute_result"
    }
   ],
   "source": [
    "list(y)"
   ]
  },
  {
   "cell_type": "code",
   "execution_count": 49,
   "metadata": {
    "colab": {
     "base_uri": "https://localhost:8080/"
    },
    "executionInfo": {
     "elapsed": 427,
     "status": "ok",
     "timestamp": 1726984540611,
     "user": {
      "displayName": "Hillary Jude",
      "userId": "17943637264411223929"
     },
     "user_tz": -330
    },
    "id": "t03Oxj59Sed4",
    "outputId": "ff9681fe-0d47-4b25-fdc5-6de3ef7ceebc"
   },
   "outputs": [
    {
     "data": {
      "text/plain": [
       "{' ', 'a', 'e', 'h', 'i', 'l', 'r', 's', 't', 'w', 'y'}"
      ]
     },
     "execution_count": 49,
     "metadata": {},
     "output_type": "execute_result"
    }
   ],
   "source": [
    "set(list(y))"
   ]
  },
  {
   "cell_type": "code",
   "execution_count": 50,
   "metadata": {
    "colab": {
     "base_uri": "https://localhost:8080/"
    },
    "executionInfo": {
     "elapsed": 446,
     "status": "ok",
     "timestamp": 1726985080477,
     "user": {
      "displayName": "Hillary Jude",
      "userId": "17943637264411223929"
     },
     "user_tz": -330
    },
    "id": "nAyYIiRMT73p",
    "outputId": "2aeb214b-15f0-4185-9e11-ed9072cfeeb3"
   },
   "outputs": [
    {
     "name": "stdout",
     "output_type": "stream",
     "text": [
      "{'where', 'you', 'are'}\n",
      "{'where', 'we', 'are'}\n"
     ]
    }
   ],
   "source": [
    "umb = \"where are you\"\n",
    "umb2 = \"where are we\"\n",
    "s = set(umb.split())\n",
    "r = set(umb2.split())\n",
    "print(s)\n",
    "print(r)"
   ]
  },
  {
   "cell_type": "code",
   "execution_count": 51,
   "metadata": {
    "colab": {
     "base_uri": "https://localhost:8080/"
    },
    "executionInfo": {
     "elapsed": 694,
     "status": "ok",
     "timestamp": 1726985093625,
     "user": {
      "displayName": "Hillary Jude",
      "userId": "17943637264411223929"
     },
     "user_tz": -330
    },
    "id": "WLlZ0FGAT8Lc",
    "outputId": "a9870c7e-e44f-4256-8534-5449d359d369"
   },
   "outputs": [
    {
     "data": {
      "text/plain": [
       "{'are', 'we', 'where', 'you'}"
      ]
     },
     "execution_count": 51,
     "metadata": {},
     "output_type": "execute_result"
    }
   ],
   "source": [
    "s.union(r) #prints the uncommon elements."
   ]
  },
  {
   "cell_type": "code",
   "execution_count": 52,
   "metadata": {
    "colab": {
     "base_uri": "https://localhost:8080/"
    },
    "executionInfo": {
     "elapsed": 411,
     "status": "ok",
     "timestamp": 1726985132052,
     "user": {
      "displayName": "Hillary Jude",
      "userId": "17943637264411223929"
     },
     "user_tz": -330
    },
    "id": "MuMV2BS6T8X7",
    "outputId": "1f917da7-e5ad-4fa5-f17e-0d011296adc3"
   },
   "outputs": [
    {
     "data": {
      "text/plain": [
       "{'are', 'where'}"
      ]
     },
     "execution_count": 52,
     "metadata": {},
     "output_type": "execute_result"
    }
   ],
   "source": [
    "s.intersection(r) #prints the common element"
   ]
  },
  {
   "cell_type": "code",
   "execution_count": 53,
   "metadata": {
    "colab": {
     "base_uri": "https://localhost:8080/"
    },
    "executionInfo": {
     "elapsed": 759,
     "status": "ok",
     "timestamp": 1726985295577,
     "user": {
      "displayName": "Hillary Jude",
      "userId": "17943637264411223929"
     },
     "user_tz": -330
    },
    "id": "WlqMt10mT8fK",
    "outputId": "f78e1cc7-3737-4c27-f423-2fa42bdc5cc4"
   },
   "outputs": [
    {
     "data": {
      "text/plain": [
       "{'you'}"
      ]
     },
     "execution_count": 53,
     "metadata": {},
     "output_type": "execute_result"
    }
   ],
   "source": [
    "s.difference(r)"
   ]
  },
  {
   "cell_type": "code",
   "execution_count": 54,
   "metadata": {
    "colab": {
     "base_uri": "https://localhost:8080/"
    },
    "executionInfo": {
     "elapsed": 620,
     "status": "ok",
     "timestamp": 1726985470369,
     "user": {
      "displayName": "Hillary Jude",
      "userId": "17943637264411223929"
     },
     "user_tz": -330
    },
    "id": "nZ9ZK5n8Wtp8",
    "outputId": "f13ceb78-f22f-4a2f-8227-6b4188607d9f"
   },
   "outputs": [
    {
     "data": {
      "text/plain": [
       "{'we'}"
      ]
     },
     "execution_count": 54,
     "metadata": {},
     "output_type": "execute_result"
    }
   ],
   "source": [
    "r.difference(s)"
   ]
  },
  {
   "cell_type": "code",
   "execution_count": null,
   "metadata": {
    "id": "FE-0vzRRW7S4"
   },
   "outputs": [],
   "source": []
  },
  {
   "cell_type": "code",
   "execution_count": 55,
   "metadata": {
    "colab": {
     "base_uri": "https://localhost:8080/"
    },
    "executionInfo": {
     "elapsed": 421,
     "status": "ok",
     "timestamp": 1726985854049,
     "user": {
      "displayName": "Hillary Jude",
      "userId": "17943637264411223929"
     },
     "user_tz": -330
    },
    "id": "zuznp19fW7W0",
    "outputId": "829298a1-d020-4005-91ed-e72653be4feb"
   },
   "outputs": [
    {
     "name": "stdout",
     "output_type": "stream",
     "text": [
      "{False, 2, 'samosa'}\n"
     ]
    }
   ],
   "source": [
    "#as previously discussed Sets and dictionaries cannot have mutable elements in it\n",
    "summer = {False, 2, 'samosa'}\n",
    "print(summer)"
   ]
  },
  {
   "cell_type": "raw",
   "metadata": {},
   "source": [
    "winter = {False, [2,3,4], \"fan\"}\n",
    "print(winter)\n",
    "\n",
    "List are unhasbable, so we cannot have list inside a dictionary, but we can convert them to tuple."
   ]
  },
  {
   "cell_type": "code",
   "execution_count": 56,
   "metadata": {
    "colab": {
     "base_uri": "https://localhost:8080/",
     "height": 159
    },
    "executionInfo": {
     "elapsed": 485,
     "status": "error",
     "timestamp": 1726986204354,
     "user": {
      "displayName": "Hillary Jude",
      "userId": "17943637264411223929"
     },
     "user_tz": -330
    },
    "id": "puEA_Y72YOh3",
    "outputId": "8b93beff-17a1-4bbd-b300-f2c80be26044"
   },
   "outputs": [
    {
     "name": "stdout",
     "output_type": "stream",
     "text": [
      "{False, (2, 3, 4), 'fan'}\n"
     ]
    }
   ],
   "source": [
    "winter = {False, tuple([2,3,4]), \"fan\"}\n",
    "print(winter)"
   ]
  },
  {
   "cell_type": "markdown",
   "metadata": {
    "id": "CfRZSk3XZ0cr"
   },
   "source": [
    "# FUNCTIONAL PROGRAMMING"
   ]
  },
  {
   "cell_type": "markdown",
   "metadata": {
    "id": "iCCrPI0eeb8p"
   },
   "source": [
    "In Python, a lambda function is a small, anonymous function that can be defined in a single line and returns a single expression. Lambda functions are useful when a short-term function is needed.\n",
    "\n",
    "Syntax -> lambda arguments: expression"
   ]
  },
  {
   "cell_type": "code",
   "execution_count": 57,
   "metadata": {
    "id": "8B1hDrxTZy49"
   },
   "outputs": [],
   "source": [
    "func = lambda x,y : x+y #syntax method 1"
   ]
  },
  {
   "cell_type": "code",
   "execution_count": 58,
   "metadata": {
    "colab": {
     "base_uri": "https://localhost:8080/"
    },
    "executionInfo": {
     "elapsed": 3,
     "status": "ok",
     "timestamp": 1726988602477,
     "user": {
      "displayName": "Hillary Jude",
      "userId": "17943637264411223929"
     },
     "user_tz": -330
    },
    "id": "FjCXEmetZzCa",
    "outputId": "d24e0944-b215-41c9-ca91-5f275ee56175"
   },
   "outputs": [
    {
     "data": {
      "text/plain": [
       "5"
      ]
     },
     "execution_count": 58,
     "metadata": {},
     "output_type": "execute_result"
    }
   ],
   "source": [
    "func(2,3)"
   ]
  },
  {
   "cell_type": "code",
   "execution_count": 59,
   "metadata": {
    "colab": {
     "base_uri": "https://localhost:8080/"
    },
    "executionInfo": {
     "elapsed": 402,
     "status": "ok",
     "timestamp": 1726988641801,
     "user": {
      "displayName": "Hillary Jude",
      "userId": "17943637264411223929"
     },
     "user_tz": -330
    },
    "id": "3Ri01oyfZzGq",
    "outputId": "b3b90a3e-baf2-42d0-b52e-4c50b1b18ad6"
   },
   "outputs": [
    {
     "data": {
      "text/plain": [
       "16"
      ]
     },
     "execution_count": 59,
     "metadata": {},
     "output_type": "execute_result"
    }
   ],
   "source": [
    "(lambda x : x**2)(4) #syntax method 2"
   ]
  },
  {
   "cell_type": "code",
   "execution_count": 60,
   "metadata": {
    "colab": {
     "base_uri": "https://localhost:8080/"
    },
    "executionInfo": {
     "elapsed": 2,
     "status": "ok",
     "timestamp": 1726988766998,
     "user": {
      "displayName": "Hillary Jude",
      "userId": "17943637264411223929"
     },
     "user_tz": -330
    },
    "id": "8BOFVBD5ZzJ7",
    "outputId": "cf423f42-edfc-49ae-c8f3-ca681a2d38bd"
   },
   "outputs": [
    {
     "data": {
      "text/plain": [
       "function"
      ]
     },
     "execution_count": 60,
     "metadata": {},
     "output_type": "execute_result"
    }
   ],
   "source": [
    "type(func)"
   ]
  },
  {
   "cell_type": "code",
   "execution_count": 61,
   "metadata": {
    "colab": {
     "base_uri": "https://localhost:8080/"
    },
    "executionInfo": {
     "elapsed": 3,
     "status": "ok",
     "timestamp": 1726988914386,
     "user": {
      "displayName": "Hillary Jude",
      "userId": "17943637264411223929"
     },
     "user_tz": -330
    },
    "id": "T7LYQf8KjyD7",
    "outputId": "9cfaa85e-685d-4f17-ba26-5c1174b9a6f9"
   },
   "outputs": [
    {
     "data": {
      "text/plain": [
       "1"
      ]
     },
     "execution_count": 61,
     "metadata": {},
     "output_type": "execute_result"
    }
   ],
   "source": [
    "def conv(x):  #conventional function\n",
    "  return x%2\n",
    "\n",
    "conv(3)"
   ]
  },
  {
   "cell_type": "code",
   "execution_count": 62,
   "metadata": {
    "colab": {
     "base_uri": "https://localhost:8080/"
    },
    "executionInfo": {
     "elapsed": 3,
     "status": "ok",
     "timestamp": 1726988939680,
     "user": {
      "displayName": "Hillary Jude",
      "userId": "17943637264411223929"
     },
     "user_tz": -330
    },
    "id": "Pf6eyBmajyKh",
    "outputId": "7daf8427-fc0e-4996-f372-2d407f146ddf"
   },
   "outputs": [
    {
     "data": {
      "text/plain": [
       "1"
      ]
     },
     "execution_count": 62,
     "metadata": {},
     "output_type": "execute_result"
    }
   ],
   "source": [
    "conv = lambda x : x%2    #lambda function\n",
    "conv(3)                  #when name is given to a function it is not anonymous"
   ]
  },
  {
   "cell_type": "code",
   "execution_count": 63,
   "metadata": {
    "colab": {
     "base_uri": "https://localhost:8080/"
    },
    "executionInfo": {
     "elapsed": 446,
     "status": "ok",
     "timestamp": 1727074868290,
     "user": {
      "displayName": "Hillary Jude",
      "userId": "17943637264411223929"
     },
     "user_tz": -330
    },
    "id": "qr0QxPPIjyQI",
    "outputId": "5f132e1e-9fc6-49ed-c10c-d2344531b336"
   },
   "outputs": [
    {
     "data": {
      "text/plain": [
       "16"
      ]
     },
     "execution_count": 63,
     "metadata": {},
     "output_type": "execute_result"
    }
   ],
   "source": [
    "(lambda z : z**2)(4)"
   ]
  },
  {
   "cell_type": "markdown",
   "metadata": {
    "id": "kNZCxqfDupPV"
   },
   "source": [
    "**Lambda inside a function**"
   ]
  },
  {
   "cell_type": "code",
   "execution_count": 64,
   "metadata": {
    "id": "v4MqH7SmrznL"
   },
   "outputs": [],
   "source": [
    "def box(num):\n",
    "  return lambda x : x + num\n",
    "\n",
    "result = box(5)"
   ]
  },
  {
   "cell_type": "code",
   "execution_count": 65,
   "metadata": {
    "colab": {
     "base_uri": "https://localhost:8080/"
    },
    "executionInfo": {
     "elapsed": 485,
     "status": "ok",
     "timestamp": 1727075547601,
     "user": {
      "displayName": "Hillary Jude",
      "userId": "17943637264411223929"
     },
     "user_tz": -330
    },
    "id": "_X3YwFBHrzt3",
    "outputId": "025f48d0-c1e7-4b5d-f0fb-7913515648c2"
   },
   "outputs": [
    {
     "name": "stdout",
     "output_type": "stream",
     "text": [
      "<function box.<locals>.<lambda> at 0x0000022684978FE0>\n"
     ]
    }
   ],
   "source": [
    "print(result)"
   ]
  },
  {
   "cell_type": "code",
   "execution_count": 66,
   "metadata": {
    "colab": {
     "base_uri": "https://localhost:8080/"
    },
    "executionInfo": {
     "elapsed": 410,
     "status": "ok",
     "timestamp": 1727075560190,
     "user": {
      "displayName": "Hillary Jude",
      "userId": "17943637264411223929"
     },
     "user_tz": -330
    },
    "id": "sDkCxfPrrzyY",
    "outputId": "5441c016-81dd-4fdc-e7f2-f6feb4f9ca08"
   },
   "outputs": [
    {
     "data": {
      "text/plain": [
       "9"
      ]
     },
     "execution_count": 66,
     "metadata": {},
     "output_type": "execute_result"
    }
   ],
   "source": [
    "result(4)"
   ]
  },
  {
   "cell_type": "code",
   "execution_count": 67,
   "metadata": {
    "id": "EERnY0gmrz1c"
   },
   "outputs": [],
   "source": [
    "def baby(z):\n",
    "  return lambda z : z * 5"
   ]
  },
  {
   "cell_type": "code",
   "execution_count": 68,
   "metadata": {
    "colab": {
     "base_uri": "https://localhost:8080/"
    },
    "executionInfo": {
     "elapsed": 509,
     "status": "ok",
     "timestamp": 1727076281477,
     "user": {
      "displayName": "Hillary Jude",
      "userId": "17943637264411223929"
     },
     "user_tz": -330
    },
    "id": "16mx_zG6va-e",
    "outputId": "e98544d9-4325-4a2d-8b1c-80ad597d16e2"
   },
   "outputs": [
    {
     "data": {
      "text/plain": [
       "<function __main__.baby.<locals>.<lambda>(z)>"
      ]
     },
     "execution_count": 68,
     "metadata": {},
     "output_type": "execute_result"
    }
   ],
   "source": [
    "baby(2)"
   ]
  },
  {
   "cell_type": "code",
   "execution_count": 69,
   "metadata": {
    "colab": {
     "base_uri": "https://localhost:8080/"
    },
    "executionInfo": {
     "elapsed": 512,
     "status": "ok",
     "timestamp": 1727076285983,
     "user": {
      "displayName": "Hillary Jude",
      "userId": "17943637264411223929"
     },
     "user_tz": -330
    },
    "id": "b7gNkjGUrz4g",
    "outputId": "a9f61233-a6e6-46af-adc6-641de11f3623"
   },
   "outputs": [
    {
     "data": {
      "text/plain": [
       "15"
      ]
     },
     "execution_count": 69,
     "metadata": {},
     "output_type": "execute_result"
    }
   ],
   "source": [
    "baby(2)(3)"
   ]
  },
  {
   "cell_type": "code",
   "execution_count": 70,
   "metadata": {
    "id": "_WvHIDVewvkn"
   },
   "outputs": [],
   "source": [
    "def testfunc(num):\n",
    " return lambda x: x*num"
   ]
  },
  {
   "cell_type": "code",
   "execution_count": 71,
   "metadata": {
    "colab": {
     "base_uri": "https://localhost:8080/"
    },
    "executionInfo": {
     "elapsed": 671,
     "status": "ok",
     "timestamp": 1727076184452,
     "user": {
      "displayName": "Hillary Jude",
      "userId": "17943637264411223929"
     },
     "user_tz": -330
    },
    "id": "_YgSfIIbwvr2",
    "outputId": "00b74ca1-39bc-47a9-b17f-22d7b09f5303"
   },
   "outputs": [
    {
     "data": {
      "text/plain": [
       "20"
      ]
     },
     "execution_count": 71,
     "metadata": {},
     "output_type": "execute_result"
    }
   ],
   "source": [
    "testfunc(4)(5)\n"
   ]
  },
  {
   "cell_type": "code",
   "execution_count": 72,
   "metadata": {
    "colab": {
     "base_uri": "https://localhost:8080/"
    },
    "executionInfo": {
     "elapsed": 383,
     "status": "ok",
     "timestamp": 1727076993106,
     "user": {
      "displayName": "Hillary Jude",
      "userId": "17943637264411223929"
     },
     "user_tz": -330
    },
    "id": "xE5Yvg9wwvw4",
    "outputId": "a777410d-cb2b-44e8-b649-ea235ee550c2"
   },
   "outputs": [
    {
     "name": "stdout",
     "output_type": "stream",
     "text": [
      "2\n"
     ]
    }
   ],
   "source": [
    "go = lambda x : x\n",
    "print(go(2))"
   ]
  },
  {
   "cell_type": "code",
   "execution_count": 73,
   "metadata": {
    "id": "60t_HtUs7hO-"
   },
   "outputs": [],
   "source": [
    "def outer():\n",
    "  num = 6\n",
    "\n",
    "  def inner(u):\n",
    "    return u + num\n",
    "\n",
    "  return inner"
   ]
  },
  {
   "cell_type": "code",
   "execution_count": 74,
   "metadata": {},
   "outputs": [
    {
     "name": "stdout",
     "output_type": "stream",
     "text": [
      "(1, 4)\n"
     ]
    }
   ],
   "source": [
    "def func2(c, d):\n",
    "    return c, d\n",
    "\n",
    "def func1(a, b):\n",
    "    c = a**1\n",
    "    d = b**2\n",
    "    return lambda: func2(c,d)\n",
    "\n",
    "result = func1(1, 2)\n",
    "\n",
    "print(result())"
   ]
  },
  {
   "cell_type": "markdown",
   "metadata": {},
   "source": [
    "*Returns a lambda function: This lambda function takes no arguments (()), and when called, it simply returns the tuple (c, d).*"
   ]
  },
  {
   "cell_type": "code",
   "execution_count": 75,
   "metadata": {
    "colab": {
     "base_uri": "https://localhost:8080/"
    },
    "executionInfo": {
     "elapsed": 376,
     "status": "ok",
     "timestamp": 1727079297663,
     "user": {
      "displayName": "Hillary Jude",
      "userId": "17943637264411223929"
     },
     "user_tz": -330
    },
    "id": "xEep-2D78Cl1",
    "outputId": "1c3ed571-2402-43b0-fb18-7fc5bd439e23"
   },
   "outputs": [
    {
     "data": {
      "text/plain": [
       "8"
      ]
     },
     "execution_count": 75,
     "metadata": {},
     "output_type": "execute_result"
    }
   ],
   "source": [
    "outer()(2)"
   ]
  },
  {
   "cell_type": "code",
   "execution_count": 76,
   "metadata": {},
   "outputs": [
    {
     "name": "stdout",
     "output_type": "stream",
     "text": [
      "['php', 'aaa']\n"
     ]
    }
   ],
   "source": [
    "arr = [\"php\", \"w3r\", \"python\", \"aaa\", \"java\"]\n",
    "result = list(filter(lambda x: (x ==\"\".join(reversed(x))), arr))\n",
    "print(result)"
   ]
  },
  {
   "cell_type": "markdown",
   "metadata": {
    "id": "W5QQihD29gha"
   },
   "source": [
    "![image.png](data:image/png;base64,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)"
   ]
  },
  {
   "cell_type": "code",
   "execution_count": 77,
   "metadata": {
    "id": "BQF9nfZ_8CtE"
   },
   "outputs": [],
   "source": [
    "multiple_n = lambda x : x*3\n"
   ]
  },
  {
   "cell_type": "code",
   "execution_count": 78,
   "metadata": {
    "colab": {
     "base_uri": "https://localhost:8080/"
    },
    "executionInfo": {
     "elapsed": 374,
     "status": "ok",
     "timestamp": 1727080098171,
     "user": {
      "displayName": "Hillary Jude",
      "userId": "17943637264411223929"
     },
     "user_tz": -330
    },
    "id": "aKXhWRng_RLu",
    "outputId": "35906c46-feb3-45f8-e5e4-84b9812c17f0"
   },
   "outputs": [
    {
     "data": {
      "text/plain": [
       "9"
      ]
     },
     "execution_count": 78,
     "metadata": {},
     "output_type": "execute_result"
    }
   ],
   "source": [
    "multiple_n(3)"
   ]
  },
  {
   "cell_type": "code",
   "execution_count": 79,
   "metadata": {
    "id": "vr2_Gim6_vRt"
   },
   "outputs": [],
   "source": [
    "def multiple(n):\n",
    "  return lambda x : x ** n"
   ]
  },
  {
   "cell_type": "code",
   "execution_count": 80,
   "metadata": {
    "colab": {
     "base_uri": "https://localhost:8080/"
    },
    "executionInfo": {
     "elapsed": 364,
     "status": "ok",
     "timestamp": 1727080186320,
     "user": {
      "displayName": "Hillary Jude",
      "userId": "17943637264411223929"
     },
     "user_tz": -330
    },
    "id": "R_QqDb7M_-Rc",
    "outputId": "f9d7a0b8-29d2-4718-febc-84e06736e430"
   },
   "outputs": [
    {
     "data": {
      "text/plain": [
       "9"
      ]
     },
     "execution_count": 80,
     "metadata": {},
     "output_type": "execute_result"
    }
   ],
   "source": [
    "multiple(2)(3)"
   ]
  },
  {
   "cell_type": "code",
   "execution_count": 81,
   "metadata": {
    "colab": {
     "base_uri": "https://localhost:8080/"
    },
    "executionInfo": {
     "elapsed": 448,
     "status": "ok",
     "timestamp": 1727084566966,
     "user": {
      "displayName": "Hillary Jude",
      "userId": "17943637264411223929"
     },
     "user_tz": -330
    },
    "id": "LzESe6XH_vcU",
    "outputId": "1cc3e1cb-fdf1-4b98-994c-1156d852ad2f"
   },
   "outputs": [
    {
     "data": {
      "text/plain": [
       "40"
      ]
     },
     "execution_count": 81,
     "metadata": {},
     "output_type": "execute_result"
    }
   ],
   "source": [
    "#This is a card game where jack holds the value of multiples of 10 and Jude hold values of 11\n",
    "def card(n):\n",
    "  return lambda x : x * n\n",
    "\n",
    "card(5)(8)"
   ]
  },
  {
   "cell_type": "code",
   "execution_count": 82,
   "metadata": {
    "colab": {
     "base_uri": "https://localhost:8080/"
    },
    "executionInfo": {
     "elapsed": 515,
     "status": "ok",
     "timestamp": 1727084639755,
     "user": {
      "displayName": "Hillary Jude",
      "userId": "17943637264411223929"
     },
     "user_tz": -330
    },
    "id": "f22AtC_z_viF",
    "outputId": "4c8dcc05-b82c-4042-fd4a-02c3dc4c17dd"
   },
   "outputs": [],
   "source": [
    "jack = card(10)\n",
    "jude = card(11)"
   ]
  },
  {
   "cell_type": "code",
   "execution_count": 83,
   "metadata": {
    "colab": {
     "base_uri": "https://localhost:8080/"
    },
    "executionInfo": {
     "elapsed": 4770,
     "status": "ok",
     "timestamp": 1727084657629,
     "user": {
      "displayName": "Hillary Jude",
      "userId": "17943637264411223929"
     },
     "user_tz": -330
    },
    "id": "NtlZTYIc_v33",
    "outputId": "5ec833b3-4c7b-45ad-bf40-9209cf43bfdc"
   },
   "outputs": [
    {
     "name": "stdin",
     "output_type": "stream",
     "text": [
      "enter value of jack:  10\n",
      "enter value of jude:  15\n"
     ]
    },
    {
     "name": "stdout",
     "output_type": "stream",
     "text": [
      "100\n",
      "165\n"
     ]
    }
   ],
   "source": [
    "x = int(input(\"enter value of jack: \"))\n",
    "y = int(input(\"enter value of jude: \"))\n",
    "\n",
    "print(jack(x))\n",
    "print(jude(y))"
   ]
  },
  {
   "cell_type": "code",
   "execution_count": null,
   "metadata": {},
   "outputs": [],
   "source": []
  },
  {
   "cell_type": "markdown",
   "metadata": {
    "id": "vSUS9_U9bcgz"
   },
   "source": [
    "## Call by value\n",
    "Passes a copy of the data to the function, so changes made to the data within the function do not affect the original data.\n",
    "## Call by reference\n",
    "Passes the memory address of the original data to the function, so changes made to the data within the function directly affect the original data."
   ]
  },
  {
   "cell_type": "code",
   "execution_count": 84,
   "metadata": {
    "colab": {
     "base_uri": "https://localhost:8080/"
    },
    "executionInfo": {
     "elapsed": 629,
     "status": "ok",
     "timestamp": 1727087528077,
     "user": {
      "displayName": "Hillary Jude",
      "userId": "17943637264411223929"
     },
     "user_tz": -330
    },
    "id": "t79rda8TbhYy",
    "outputId": "c42fe490-beb8-4d05-cec0-b92d03725a0e"
   },
   "outputs": [
    {
     "name": "stdout",
     "output_type": "stream",
     "text": [
      "[1, 2, 334]\n",
      "[1, 2, 111]\n",
      "[1, 2, 111]\n"
     ]
    }
   ],
   "source": [
    "\n",
    "lst = [1,2,334] #mutable elements\n",
    "def work(a):\n",
    "  a[2] = 111\n",
    "  return a\n",
    "\n",
    "print(lst)\n",
    "print(work(lst))  #call by reference changes the data in function and also the original data for mutable elements.\n",
    "print(lst)"
   ]
  },
  {
   "cell_type": "code",
   "execution_count": 85,
   "metadata": {
    "colab": {
     "base_uri": "https://localhost:8080/"
    },
    "executionInfo": {
     "elapsed": 412,
     "status": "ok",
     "timestamp": 1727087703984,
     "user": {
      "displayName": "Hillary Jude",
      "userId": "17943637264411223929"
     },
     "user_tz": -330
    },
    "id": "iRuwaGtHcSVN",
    "outputId": "eaaae8a1-26ef-4e68-b3f3-38b1d51ae89c"
   },
   "outputs": [
    {
     "name": "stdout",
     "output_type": "stream",
     "text": [
      "who the hell\n",
      "who the hell I am jack\n",
      "who the hell\n"
     ]
    }
   ],
   "source": [
    "string = \"who the hell\"\n",
    "\n",
    "def job(a):\n",
    "  a = a + \" I am jack\"\n",
    "  return a\n",
    "\n",
    "print(string)\n",
    "print(job(string))  #call by value, for immutable objects only the value inside the function changes and not the original data\n",
    "print(string)"
   ]
  },
  {
   "cell_type": "code",
   "execution_count": 86,
   "metadata": {
    "id": "KIVoVQqnc4Ts"
   },
   "outputs": [],
   "source": [
    "#now let us create a dictionary and call those value in a function\n",
    "\n",
    "square = lambda x : x**2\n",
    "cube = lambda x : x**3\n",
    "\n",
    "formula = {\n",
    "    'sqaure' : square,\n",
    "    'cube' : cube,\n",
    "\n",
    "}"
   ]
  },
  {
   "cell_type": "code",
   "execution_count": 87,
   "metadata": {
    "colab": {
     "base_uri": "https://localhost:8080/"
    },
    "executionInfo": {
     "elapsed": 6,
     "status": "ok",
     "timestamp": 1727088036467,
     "user": {
      "displayName": "Hillary Jude",
      "userId": "17943637264411223929"
     },
     "user_tz": -330
    },
    "id": "RYcxj_aed10O",
    "outputId": "b7f9f6b3-0582-4c5a-b252-8a6226244225"
   },
   "outputs": [
    {
     "data": {
      "text/plain": [
       "64"
      ]
     },
     "execution_count": 87,
     "metadata": {},
     "output_type": "execute_result"
    }
   ],
   "source": [
    "formula['cube'](4)"
   ]
  },
  {
   "cell_type": "code",
   "execution_count": 88,
   "metadata": {
    "colab": {
     "base_uri": "https://localhost:8080/"
    },
    "executionInfo": {
     "elapsed": 405,
     "status": "ok",
     "timestamp": 1727088056421,
     "user": {
      "displayName": "Hillary Jude",
      "userId": "17943637264411223929"
     },
     "user_tz": -330
    },
    "id": "cs6jLj-0d18i",
    "outputId": "925608bd-f033-45e7-d115-32dfa81ad914"
   },
   "outputs": [
    {
     "data": {
      "text/plain": [
       "7744"
      ]
     },
     "execution_count": 88,
     "metadata": {},
     "output_type": "execute_result"
    }
   ],
   "source": [
    "formula['sqaure'](88)"
   ]
  },
  {
   "cell_type": "code",
   "execution_count": 89,
   "metadata": {
    "colab": {
     "base_uri": "https://localhost:8080/"
    },
    "executionInfo": {
     "elapsed": 387,
     "status": "ok",
     "timestamp": 1727102375407,
     "user": {
      "displayName": "Hillary Jude",
      "userId": "17943637264411223929"
     },
     "user_tz": -330
    },
    "id": "amJ6zF0Cc4RA",
    "outputId": "ef7779c8-f15d-4a47-95ff-e53dde61f276"
   },
   "outputs": [
    {
     "name": "stdout",
     "output_type": "stream",
     "text": [
      "400\n",
      "8000\n"
     ]
    }
   ],
   "source": [
    "for i in formula:\n",
    "  print(formula[i](20))"
   ]
  },
  {
   "cell_type": "code",
   "execution_count": 90,
   "metadata": {
    "colab": {
     "base_uri": "https://localhost:8080/"
    },
    "executionInfo": {
     "elapsed": 422,
     "status": "ok",
     "timestamp": 1727102501217,
     "user": {
      "displayName": "Hillary Jude",
      "userId": "17943637264411223929"
     },
     "user_tz": -330
    },
    "id": "er7DvZoRc4Oh",
    "outputId": "b8edc9d3-7404-4267-99c5-722fa491a11f"
   },
   "outputs": [
    {
     "name": "stdout",
     "output_type": "stream",
     "text": [
      "81\n",
      "729\n"
     ]
    }
   ],
   "source": [
    "for i in formula:\n",
    "  print(formula[i](9))"
   ]
  },
  {
   "cell_type": "markdown",
   "metadata": {
    "id": "1zK5s0n0yDxQ"
   },
   "source": [
    "## Functional programming\n",
    " 1. Data and mutation are separate operations\n",
    " 2. Data has to be considered or assumed as immutable\n",
    " 3. Functions are first-class citizen or higher order functions\n"
   ]
  },
  {
   "cell_type": "code",
   "execution_count": 91,
   "metadata": {
    "colab": {
     "base_uri": "https://localhost:8080/"
    },
    "executionInfo": {
     "elapsed": 401,
     "status": "ok",
     "timestamp": 1727160659211,
     "user": {
      "displayName": "Hillary Jude",
      "userId": "17943637264411223929"
     },
     "user_tz": -330
    },
    "id": "zK_Q9HJfV8hD",
    "outputId": "7fb2fa6c-410b-4627-bb86-7f34b648cab8"
   },
   "outputs": [
    {
     "name": "stdout",
     "output_type": "stream",
     "text": [
      "36\n"
     ]
    }
   ],
   "source": [
    "#the below example is not a functional programming where the original data gets modified.\n",
    "\n",
    "x = 5\n",
    "x += 1\n",
    "x = x * 6\n",
    "print(x)"
   ]
  },
  {
   "cell_type": "code",
   "execution_count": 92,
   "metadata": {
    "colab": {
     "base_uri": "https://localhost:8080/"
    },
    "executionInfo": {
     "elapsed": 9,
     "status": "ok",
     "timestamp": 1727160739511,
     "user": {
      "displayName": "Hillary Jude",
      "userId": "17943637264411223929"
     },
     "user_tz": -330
    },
    "id": "HhAXC-0IV8mq",
    "outputId": "21d3d76f-b28a-49f4-969b-50be21eaa688"
   },
   "outputs": [
    {
     "name": "stdout",
     "output_type": "stream",
     "text": [
      "5\n",
      "36\n",
      "5\n"
     ]
    }
   ],
   "source": [
    "#what func prog says is the original data does not get modified, while mutation happens inside the function\n",
    "\n",
    "x = 5\n",
    "\n",
    "def modi(x):\n",
    "  x += 1\n",
    "  x = x *6\n",
    "  return x\n",
    "\n",
    "print(x)\n",
    "print(modi(x))\n",
    "print(x)        # still the original value is maintained. This is the objective behind Functional programming"
   ]
  },
  {
   "cell_type": "code",
   "execution_count": 93,
   "metadata": {
    "colab": {
     "base_uri": "https://localhost:8080/"
    },
    "executionInfo": {
     "elapsed": 423,
     "status": "ok",
     "timestamp": 1727160925748,
     "user": {
      "displayName": "Hillary Jude",
      "userId": "17943637264411223929"
     },
     "user_tz": -330
    },
    "id": "nlk1WjufV8rd",
    "outputId": "268bdede-5d3a-4627-a18e-50a210e4315a"
   },
   "outputs": [
    {
     "name": "stdout",
     "output_type": "stream",
     "text": [
      "[1, 2, 3]\n",
      "[1, 2, 3, 4, 5]\n"
     ]
    }
   ],
   "source": [
    "#2 data to be considered immutable in the sense\n",
    "l1 = [1,2,3]\n",
    "l2 = l1 + [4,5] #rather than modifying the l1, I am creating another variable and modifying\n",
    "print(l1)\n",
    "print(l2)"
   ]
  },
  {
   "cell_type": "markdown",
   "metadata": {
    "id": "BApcLEw_0VpE"
   },
   "source": [
    "## Inbuilt functions in Func Prog: Map(), Filter() and Reduce()"
   ]
  },
  {
   "cell_type": "markdown",
   "metadata": {
    "id": "qG6V1i5WCz-m"
   },
   "source": [
    "### Map\n",
    "Map() Syntax  : map(fun, iter)"
   ]
  },
  {
   "cell_type": "code",
   "execution_count": 94,
   "metadata": {
    "colab": {
     "base_uri": "https://localhost:8080/"
    },
    "executionInfo": {
     "elapsed": 474,
     "status": "ok",
     "timestamp": 1727163859322,
     "user": {
      "displayName": "Hillary Jude",
      "userId": "17943637264411223929"
     },
     "user_tz": -330
    },
    "id": "dRoaZDRO0VXr",
    "outputId": "d6fe779a-ad20-45e9-c02d-c019cfd4919d"
   },
   "outputs": [
    {
     "name": "stdout",
     "output_type": "stream",
     "text": [
      "[2, 4, 6, 8]\n"
     ]
    }
   ],
   "source": [
    "# Return double of n\n",
    "def addition(n):\n",
    "    return n + n\n",
    "\n",
    "# We double all numbers using map()\n",
    "numbers = (1, 2, 3, 4)\n",
    "result = map(addition, numbers) #calling addition function as argument, then the variable\n",
    "print(list(result))\n",
    "\n"
   ]
  },
  {
   "cell_type": "code",
   "execution_count": 95,
   "metadata": {
    "colab": {
     "base_uri": "https://localhost:8080/"
    },
    "executionInfo": {
     "elapsed": 390,
     "status": "ok",
     "timestamp": 1727164051473,
     "user": {
      "displayName": "Hillary Jude",
      "userId": "17943637264411223929"
     },
     "user_tz": -330
    },
    "id": "9eFqDTG4_uxv",
    "outputId": "e109f2f5-31be-45ef-8ad6-51c69739b164"
   },
   "outputs": [
    {
     "name": "stdout",
     "output_type": "stream",
     "text": [
      "[2, 4, 6, 8]\n"
     ]
    }
   ],
   "source": [
    "# Double all numbers using map and lambda\n",
    "\n",
    "numbers = (1, 2, 3, 4)\n",
    "result = map(lambda x: x + x, numbers)\n",
    "print(list(result))"
   ]
  },
  {
   "cell_type": "code",
   "execution_count": 96,
   "metadata": {
    "colab": {
     "base_uri": "https://localhost:8080/"
    },
    "executionInfo": {
     "elapsed": 530,
     "status": "ok",
     "timestamp": 1727164447684,
     "user": {
      "displayName": "Hillary Jude",
      "userId": "17943637264411223929"
     },
     "user_tz": -330
    },
    "id": "Xn9EM-xnBee4",
    "outputId": "5492011a-02dd-4a5c-fe41-3f582aacb050"
   },
   "outputs": [
    {
     "name": "stdout",
     "output_type": "stream",
     "text": [
      "[5, 7, 9]\n"
     ]
    }
   ],
   "source": [
    "# Add two lists using map and lambda\n",
    "\n",
    "numbers1 = [1, 2, 3]\n",
    "numbers2 = [4, 5, 6]\n",
    "\n",
    "result = map(lambda x, y: x + y, numbers1, numbers2)\n",
    "print(list(result))\n"
   ]
  },
  {
   "cell_type": "code",
   "execution_count": 97,
   "metadata": {
    "colab": {
     "base_uri": "https://localhost:8080/"
    },
    "executionInfo": {
     "elapsed": 376,
     "status": "ok",
     "timestamp": 1727167984775,
     "user": {
      "displayName": "Hillary Jude",
      "userId": "17943637264411223929"
     },
     "user_tz": -330
    },
    "id": "vHQRGE-J_uuK",
    "outputId": "c3c8d2b0-f51b-47dd-d377-94f3de3b6eff"
   },
   "outputs": [
    {
     "name": "stdout",
     "output_type": "stream",
     "text": [
      "['s', 'a', 't'] ['b', 'a', 't'] ['c', 'a', 't'] ['m', 'a', 't'] \n",
      "[['s', 'a', 't'], ['b', 'a', 't'], ['c', 'a', 't'], ['m', 'a', 't']]\n"
     ]
    }
   ],
   "source": [
    "#to print l as a list\n",
    "#usual approach\n",
    "l = ['sat', 'bat', 'cat', 'mat']\n",
    "\n",
    "for i in l:\n",
    "    m = []\n",
    "    m = (list(i))\n",
    "    print(list(m), end = \" \")\n",
    "print()\n",
    "    \n",
    "\n",
    "#functional prog approach\n",
    "# List of strings\n",
    "l = ['sat', 'bat', 'cat', 'mat']\n",
    "\n",
    "# map() can listify the list of strings individually\n",
    "test = list(map(list, l))\n",
    "print(test)\n"
   ]
  },
  {
   "cell_type": "code",
   "execution_count": 98,
   "metadata": {
    "colab": {
     "base_uri": "https://localhost:8080/"
    },
    "executionInfo": {
     "elapsed": 422,
     "status": "ok",
     "timestamp": 1727170610418,
     "user": {
      "displayName": "Hillary Jude",
      "userId": "17943637264411223929"
     },
     "user_tz": -330
    },
    "id": "tv69aanqX-O2",
    "outputId": "f55904bd-c6be-4992-d1e3-98f06d612cac"
   },
   "outputs": [
    {
     "name": "stdout",
     "output_type": "stream",
     "text": [
      "[1, 4, 3, 8, 5]\n"
     ]
    }
   ],
   "source": [
    "# Define a function that doubles even numbers and leaves odd numbers as is\n",
    "def double_even(num):\n",
    "    if num % 2 == 0:\n",
    "        return num * 2\n",
    "    else:\n",
    "        return num\n",
    "\n",
    "# Create a list of numbers to apply the function to\n",
    "numbers = [1, 2, 3, 4, 5]\n",
    "\n",
    "# Use map to apply the function to each element in the list\n",
    "result = list(map(double_even, numbers))\n",
    "\n",
    "# Print the result\n",
    "print(result)  # [1, 4, 3, 8, 5]\n"
   ]
  },
  {
   "cell_type": "code",
   "execution_count": 99,
   "metadata": {
    "colab": {
     "base_uri": "https://localhost:8080/"
    },
    "executionInfo": {
     "elapsed": 382,
     "status": "ok",
     "timestamp": 1727171071364,
     "user": {
      "displayName": "Hillary Jude",
      "userId": "17943637264411223929"
     },
     "user_tz": -330
    },
    "id": "8Rk0nn3i_uqi",
    "outputId": "bfd6f236-0ff7-422d-f4d1-eec7cf229c32"
   },
   "outputs": [
    {
     "name": "stdout",
     "output_type": "stream",
     "text": [
      "['How are you xyz', 'I am fine xyz']\n",
      "['How are you', 'I am fine']\n"
     ]
    }
   ],
   "source": [
    "#I have a list of strings, and I want to add xyz to each of my strings in list.\n",
    "z = [\"How are you\",\"I am fine\"]\n",
    "\n",
    "result = map(lambda x: x + \" xyz\", z)\n",
    "print(list(result))\n",
    "print(z)      #original value unchanged"
   ]
  },
  {
   "cell_type": "code",
   "execution_count": 100,
   "metadata": {
    "colab": {
     "base_uri": "https://localhost:8080/"
    },
    "executionInfo": {
     "elapsed": 427,
     "status": "ok",
     "timestamp": 1727173158978,
     "user": {
      "displayName": "Hillary Jude",
      "userId": "17943637264411223929"
     },
     "user_tz": -330
    },
    "id": "8PC13oAOeAiT",
    "outputId": "c65cf4c3-8e11-4d1e-e022-2a90f55b3b86"
   },
   "outputs": [
    {
     "name": "stdout",
     "output_type": "stream",
     "text": [
      "[110, 120, 130, 140]\n"
     ]
    }
   ],
   "source": [
    "code = [10,20,30,40]      #list comprehension\n",
    "o = [i+100 for i in code]\n",
    "print(o)"
   ]
  },
  {
   "cell_type": "code",
   "execution_count": 101,
   "metadata": {
    "colab": {
     "base_uri": "https://localhost:8080/"
    },
    "executionInfo": {
     "elapsed": 413,
     "status": "ok",
     "timestamp": 1727173236257,
     "user": {
      "displayName": "Hillary Jude",
      "userId": "17943637264411223929"
     },
     "user_tz": -330
    },
    "id": "6vQSCX-KeAeU",
    "outputId": "4a601a1e-3776-40f5-ff21-8935e2d7278c"
   },
   "outputs": [
    {
     "name": "stdout",
     "output_type": "stream",
     "text": [
      "[110, 120, 130, 140]\n"
     ]
    }
   ],
   "source": [
    "result = list(map(lambda x:x+100, code))  #using map function\n",
    "print(result)"
   ]
  },
  {
   "cell_type": "code",
   "execution_count": 102,
   "metadata": {
    "id": "uGUw__l8eAay"
   },
   "outputs": [],
   "source": [
    "lst = [152,160,177,159,182,120]\n",
    "\n",
    "# convert height to tshirt size: s - 100 to 150, M - 151 to 170, L for more\n",
    "def shirt(a):\n",
    "    if 100 <= a <= 150:\n",
    "        print(\"s\")\n",
    "    elif 151 <=a<=170:\n",
    "        print(\"m\")\n",
    "    else:\n",
    "        print(\"l\")"
   ]
  },
  {
   "cell_type": "code",
   "execution_count": 103,
   "metadata": {
    "id": "UFXrxlPzeAXc"
   },
   "outputs": [],
   "source": [
    "result = map(shirt, lst)    #The map function will apply shirt to each element of lst automatically. Hence for loop not required"
   ]
  },
  {
   "cell_type": "code",
   "execution_count": 104,
   "metadata": {},
   "outputs": [
    {
     "name": "stdout",
     "output_type": "stream",
     "text": [
      "m\n",
      "m\n",
      "l\n",
      "m\n",
      "l\n",
      "s\n"
     ]
    },
    {
     "data": {
      "text/plain": [
       "[None, None, None, None, None, None]"
      ]
     },
     "execution_count": 104,
     "metadata": {},
     "output_type": "execute_result"
    }
   ],
   "source": [
    "list(result)"
   ]
  },
  {
   "cell_type": "code",
   "execution_count": 105,
   "metadata": {
    "id": "rWXFrD1X_uh-"
   },
   "outputs": [],
   "source": [
    "a = [152,160,177,159,182,120]\n",
    "\n",
    "# convert height to tshirt size: s - 100 to 150, M - 151 to 170, L for more\n",
    "def shirt(height):\n",
    "  if 100 <= height <= 150:\n",
    "    return 's'\n",
    "  elif 151 <=height<=170:\n",
    "    return 'm'\n",
    "  else:\n",
    "    return 'l'"
   ]
  },
  {
   "cell_type": "code",
   "execution_count": 106,
   "metadata": {
    "colab": {
     "base_uri": "https://localhost:8080/"
    },
    "executionInfo": {
     "elapsed": 403,
     "status": "ok",
     "timestamp": 1727191881499,
     "user": {
      "displayName": "Hillary Jude",
      "userId": "17943637264411223929"
     },
     "user_tz": -330
    },
    "id": "cl4PbWlFpR7R",
    "outputId": "62edb73f-88b7-4ea5-fd05-9344271b33d1"
   },
   "outputs": [
    {
     "name": "stdout",
     "output_type": "stream",
     "text": [
      "['m', 'm', 'l', 'm', 'l', 's']\n"
     ]
    }
   ],
   "source": [
    "print(list(map(shirt,a)))"
   ]
  },
  {
   "cell_type": "markdown",
   "metadata": {
    "id": "sJTeuDwyiltz"
   },
   "source": [
    "### Filter"
   ]
  },
  {
   "cell_type": "markdown",
   "metadata": {
    "id": "skt_d2UMmHcd"
   },
   "source": [
    "**Filter can take either function or None. For none, it returns values of True.**"
   ]
  },
  {
   "cell_type": "code",
   "execution_count": 107,
   "metadata": {
    "colab": {
     "base_uri": "https://localhost:8080/"
    },
    "executionInfo": {
     "elapsed": 506,
     "status": "ok",
     "timestamp": 1727794193982,
     "user": {
      "displayName": "Hillary Jude",
      "userId": "17943637264411223929"
     },
     "user_tz": -330
    },
    "id": "ZYiNsHAPp9PY",
    "outputId": "9e1b77ea-c14a-42c6-d86d-3eacb2da5d76"
   },
   "outputs": [
    {
     "name": "stdout",
     "output_type": "stream",
     "text": [
      "[110, 100, 500]\n"
     ]
    }
   ],
   "source": [
    "#filter() only retrieves values which gives the value as true\n",
    "\n",
    "purse = [110,20,50,100,500]\n",
    "print(list(filter(lambda x: (x>=100),purse))) #prints only the value that are greater than or equal to 100"
   ]
  },
  {
   "cell_type": "code",
   "execution_count": 108,
   "metadata": {
    "colab": {
     "base_uri": "https://localhost:8080/"
    },
    "executionInfo": {
     "elapsed": 609,
     "status": "ok",
     "timestamp": 1727795069867,
     "user": {
      "displayName": "Hillary Jude",
      "userId": "17943637264411223929"
     },
     "user_tz": -330
    },
    "id": "hSpEctYAmb_2",
    "outputId": "ddb662a1-057e-4775-a241-68651ad6c9a5"
   },
   "outputs": [
    {
     "name": "stdout",
     "output_type": "stream",
     "text": [
      "['a', True, 1, '0']\n"
     ]
    }
   ],
   "source": [
    "random = [0, 'a', True, False, 1, '0']\n",
    "print(list(filter(None, random)))"
   ]
  },
  {
   "cell_type": "code",
   "execution_count": 109,
   "metadata": {},
   "outputs": [
    {
     "name": "stdout",
     "output_type": "stream",
     "text": [
      "[False, True]\n",
      "['how are you']\n"
     ]
    }
   ],
   "source": [
    "string = [\"who the hell is alfred\",\"how are you\"]\n",
    "result = map(lambda x : x.startswith(\"h\"),string)\n",
    "result1 = filter(lambda x : x.startswith(\"h\"),string)\n",
    "print(list(result))\n",
    "print(list(result1))"
   ]
  },
  {
   "cell_type": "code",
   "execution_count": 110,
   "metadata": {
    "colab": {
     "base_uri": "https://localhost:8080/"
    },
    "executionInfo": {
     "elapsed": 431,
     "status": "ok",
     "timestamp": 1727794322489,
     "user": {
      "displayName": "Hillary Jude",
      "userId": "17943637264411223929"
     },
     "user_tz": -330
    },
    "id": "wMUBwqw0j1nO",
    "outputId": "c5affbea-020d-424d-b1b5-26286820d076"
   },
   "outputs": [
    {
     "name": "stdout",
     "output_type": "stream",
     "text": [
      "['I am here you fool']\n"
     ]
    }
   ],
   "source": [
    "string = [\"where are you boy\", \"I am here you fool\"]\n",
    "print(list(filter(lambda x: x.startswith(\"I\"),string))) #it reads the lists which starts with letter I, if that's true, it will print that value"
   ]
  },
  {
   "cell_type": "code",
   "execution_count": 111,
   "metadata": {
    "colab": {
     "base_uri": "https://localhost:8080/"
    },
    "executionInfo": {
     "elapsed": 417,
     "status": "ok",
     "timestamp": 1727794503961,
     "user": {
      "displayName": "Hillary Jude",
      "userId": "17943637264411223929"
     },
     "user_tz": -330
    },
    "id": "4nETYZAKj16d",
    "outputId": "3a05db53-c9e5-4d0b-9d21-48d6228af0d2"
   },
   "outputs": [
    {
     "name": "stdout",
     "output_type": "stream",
     "text": [
      "[2, 4, 54, 6, 98, 88]\n"
     ]
    }
   ],
   "source": [
    "#to extract only the even numbers using filter() function\n",
    "lst = [1,2,3,4,54,5,6,7,87,98,88,9]\n",
    "print(list(filter(lambda x: x%2 == 0, lst)))"
   ]
  },
  {
   "cell_type": "code",
   "execution_count": 112,
   "metadata": {
    "colab": {
     "base_uri": "https://localhost:8080/"
    },
    "executionInfo": {
     "elapsed": 513,
     "status": "ok",
     "timestamp": 1727795926618,
     "user": {
      "displayName": "Hillary Jude",
      "userId": "17943637264411223929"
     },
     "user_tz": -330
    },
    "id": "XO7eRHxWmcEo",
    "outputId": "98178426-3f99-40ca-ace5-b637bc6be327"
   },
   "outputs": [
    {
     "name": "stdout",
     "output_type": "stream",
     "text": [
      "[1, 2, 3, 4, 5, 6, 7, 8, 9, 10]\n"
     ]
    }
   ],
   "source": [
    "a = list(range(1,11))\n",
    "print(a)"
   ]
  },
  {
   "cell_type": "markdown",
   "metadata": {},
   "source": [
    "### Reduce"
   ]
  },
  {
   "cell_type": "code",
   "execution_count": 113,
   "metadata": {},
   "outputs": [
    {
     "name": "stdout",
     "output_type": "stream",
     "text": [
      "8\n"
     ]
    }
   ],
   "source": [
    "from functools import reduce\n",
    "a = [1,2,3]\n",
    "print(reduce(lambda x,y: x+y,a, 2))"
   ]
  },
  {
   "cell_type": "code",
   "execution_count": 114,
   "metadata": {},
   "outputs": [
    {
     "name": "stdout",
     "output_type": "stream",
     "text": [
      "[set(), {1}, {2}, {1, 2}, {3}, {1, 3}, {2, 3}, {1, 2, 3}]\n"
     ]
    }
   ],
   "source": [
    "from functools import reduce\n",
    "array = {1, 2, 3}\n",
    "result = lambda array: reduce(lambda P, x: P + [subset | {x} for subset in P], array , [set()]) \n",
    "\n",
    "print(result(array)) "
   ]
  },
  {
   "cell_type": "code",
   "execution_count": null,
   "metadata": {},
   "outputs": [],
   "source": []
  },
  {
   "cell_type": "markdown",
   "metadata": {
    "id": "zoFqDwA1r6Kh"
   },
   "source": [
    "# Miscellaneous concepts"
   ]
  },
  {
   "cell_type": "code",
   "execution_count": 115,
   "metadata": {},
   "outputs": [
    {
     "name": "stdout",
     "output_type": "stream",
     "text": [
      "Help on built-in function sorted in module builtins:\n",
      "\n",
      "sorted(iterable, /, *, key=None, reverse=False)\n",
      "    Return a new list containing all items from the iterable in ascending order.\n",
      "\n",
      "    A custom key function can be supplied to customize the sort order, and the\n",
      "    reverse flag can be set to request the result in descending order.\n",
      "\n"
     ]
    }
   ],
   "source": [
    "help(sorted)"
   ]
  },
  {
   "cell_type": "code",
   "execution_count": 116,
   "metadata": {
    "colab": {
     "base_uri": "https://localhost:8080/"
    },
    "executionInfo": {
     "elapsed": 760,
     "status": "ok",
     "timestamp": 1727796532004,
     "user": {
      "displayName": "Hillary Jude",
      "userId": "17943637264411223929"
     },
     "user_tz": -330
    },
    "id": "OxeDERfuqbwK",
    "outputId": "e62b4bf6-febd-4132-82e6-8d5ba84ed085"
   },
   "outputs": [
    {
     "data": {
      "text/plain": [
       "[('Jack', 521), ('Rude', 77), ('Theo', 82)]"
      ]
     },
     "execution_count": 116,
     "metadata": {},
     "output_type": "execute_result"
    }
   ],
   "source": [
    "lst = [('Rude',77),('Jack',521),('Theo',82)]   #the list is sorted based on the string's letters\n",
    "sorted(lst)"
   ]
  },
  {
   "cell_type": "code",
   "execution_count": 117,
   "metadata": {
    "colab": {
     "base_uri": "https://localhost:8080/"
    },
    "executionInfo": {
     "elapsed": 402,
     "status": "ok",
     "timestamp": 1727802892093,
     "user": {
      "displayName": "Hillary Jude",
      "userId": "17943637264411223929"
     },
     "user_tz": -330
    },
    "id": "OHpD2Pyaqb0q",
    "outputId": "4c554899-6019-42f9-bd38-cf113e30e7b4"
   },
   "outputs": [
    {
     "data": {
      "text/plain": [
       "[('romy', 25), ('jude', 50), ('jeff', 88), ('josh', 100)]"
      ]
     },
     "execution_count": 117,
     "metadata": {},
     "output_type": "execute_result"
    }
   ],
   "source": [
    "jumbalaka = [('romy',25),('jeff',88),('josh',100),('jude',50)]\n",
    "sorted(jumbalaka, key= lambda x:x[1])"
   ]
  },
  {
   "cell_type": "code",
   "execution_count": 118,
   "metadata": {
    "colab": {
     "base_uri": "https://localhost:8080/"
    },
    "executionInfo": {
     "elapsed": 475,
     "status": "ok",
     "timestamp": 1727803346747,
     "user": {
      "displayName": "Hillary Jude",
      "userId": "17943637264411223929"
     },
     "user_tz": -330
    },
    "id": "XHXr3ZILFh8L",
    "outputId": "9b540dbd-15e6-41db-aada-f76a4d5c4235"
   },
   "outputs": [
    {
     "data": {
      "text/plain": [
       "[3, 4]"
      ]
     },
     "execution_count": 118,
     "metadata": {},
     "output_type": "execute_result"
    }
   ],
   "source": [
    "ice = [[1,2],[3,4],[-4,3]]\n",
    "max(ice, key = lambda x : x[0]*x[1])\n"
   ]
  },
  {
   "cell_type": "code",
   "execution_count": 119,
   "metadata": {
    "colab": {
     "base_uri": "https://localhost:8080/"
    },
    "executionInfo": {
     "elapsed": 558,
     "status": "ok",
     "timestamp": 1727805029874,
     "user": {
      "displayName": "Hillary Jude",
      "userId": "17943637264411223929"
     },
     "user_tz": -330
    },
    "id": "B_ErbD7BFiIe",
    "outputId": "83ca4dcd-aa06-4a1c-a2da-df783e9fd34e"
   },
   "outputs": [
    {
     "name": "stdout",
     "output_type": "stream",
     "text": [
      "5458.0078125\n"
     ]
    }
   ],
   "source": [
    "inches = [2.3, 1.5, -1.2, 9, 4.5]\n",
    "#remove invalid valued\n",
    "#convert inches to cm\n",
    "#product of all inches.\n",
    "\n",
    "from functools import reduce\n",
    "\n",
    "def convert_to_cm(a):\n",
    "  result = [i * 2.5 for i in a if i>=0]\n",
    "  return result\n",
    "\n",
    "def product(z):\n",
    "  res2 = reduce(lambda x,y:x*y, z)\n",
    "  return res2\n",
    "\n",
    "print(product(convert_to_cm(inches)))\n"
   ]
  },
  {
   "cell_type": "code",
   "execution_count": 120,
   "metadata": {
    "colab": {
     "base_uri": "https://localhost:8080/"
    },
    "executionInfo": {
     "elapsed": 402,
     "status": "ok",
     "timestamp": 1727941983394,
     "user": {
      "displayName": "Hillary Jude",
      "userId": "17943637264411223929"
     },
     "user_tz": -330
    },
    "id": "atZ-aoaeXWw9",
    "outputId": "4b3e7858-8d00-4cee-ffce-6f8c58fcb7fa"
   },
   "outputs": [
    {
     "data": {
      "text/plain": [
       "6"
      ]
     },
     "execution_count": 120,
     "metadata": {},
     "output_type": "execute_result"
    }
   ],
   "source": [
    "listed = [1,2,3,4,5,6]\n",
    "max(listed)"
   ]
  },
  {
   "cell_type": "code",
   "execution_count": 121,
   "metadata": {
    "colab": {
     "base_uri": "https://localhost:8080/",
     "height": 141
    },
    "executionInfo": {
     "elapsed": 380,
     "status": "error",
     "timestamp": 1727942080314,
     "user": {
      "displayName": "Hillary Jude",
      "userId": "17943637264411223929"
     },
     "user_tz": -330
    },
    "id": "akMsjv3KXW69",
    "outputId": "a05373d4-c2e1-4996-f9e4-06a54ee642d9"
   },
   "outputs": [],
   "source": [
    "# print(list(map(lambda x,y: x if x > y else y,listed))) map cannot give you one value"
   ]
  },
  {
   "cell_type": "code",
   "execution_count": 122,
   "metadata": {
    "colab": {
     "base_uri": "https://localhost:8080/"
    },
    "executionInfo": {
     "elapsed": 412,
     "status": "ok",
     "timestamp": 1727942313681,
     "user": {
      "displayName": "Hillary Jude",
      "userId": "17943637264411223929"
     },
     "user_tz": -330
    },
    "id": "T_tMUOHuYWwZ",
    "outputId": "3449a992-c494-4181-ec66-be8be9f93abb"
   },
   "outputs": [
    {
     "data": {
      "text/plain": [
       "6"
      ]
     },
     "execution_count": 122,
     "metadata": {},
     "output_type": "execute_result"
    }
   ],
   "source": [
    "from functools import reduce\n",
    "reduce(lambda x,y: x if x > y else y,listed) #map does not give you one value"
   ]
  },
  {
   "cell_type": "code",
   "execution_count": 125,
   "metadata": {},
   "outputs": [
    {
     "name": "stdout",
     "output_type": "stream",
     "text": [
      "39.0\n",
      "hillary\n"
     ]
    }
   ],
   "source": [
    "k = [['hillary', 39.0], ['Deri', 55.0], ['jack', 32.0]]\n",
    "k = sorted(k,key = lambda x: x[1])\n",
    "sorted_grades = list(set(map(lambda x:x[1],k)))\n",
    "second_lowest = sorted_grades[2]\n",
    "print(k[1][1])\n",
    "print(k[1][0])\n"
   ]
  },
  {
   "cell_type": "code",
   "execution_count": null,
   "metadata": {},
   "outputs": [],
   "source": [
    "\n"
   ]
  },
  {
   "cell_type": "code",
   "execution_count": null,
   "metadata": {},
   "outputs": [],
   "source": []
  }
 ],
 "metadata": {
  "colab": {
   "authorship_tag": "ABX9TyOjapGqYvX8Y59WIZ1RcKg1",
   "provenance": []
  },
  "kernelspec": {
   "display_name": "Python 3 (ipykernel)",
   "language": "python",
   "name": "python3"
  },
  "language_info": {
   "codemirror_mode": {
    "name": "ipython",
    "version": 3
   },
   "file_extension": ".py",
   "mimetype": "text/x-python",
   "name": "python",
   "nbconvert_exporter": "python",
   "pygments_lexer": "ipython3",
   "version": "3.12.6"
  }
 },
 "nbformat": 4,
 "nbformat_minor": 4
}
